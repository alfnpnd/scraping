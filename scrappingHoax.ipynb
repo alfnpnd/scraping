{
  "nbformat": 4,
  "nbformat_minor": 0,
  "metadata": {
    "colab": {
      "provenance": [],
      "authorship_tag": "ABX9TyNCiIyfYNHelIE5GEFL9YrG",
      "include_colab_link": true
    },
    "kernelspec": {
      "name": "python3",
      "display_name": "Python 3"
    },
    "language_info": {
      "name": "python"
    }
  },
  "cells": [
    {
      "cell_type": "markdown",
      "metadata": {
        "id": "view-in-github",
        "colab_type": "text"
      },
      "source": [
        "<a href=\"https://colab.research.google.com/github/alfnpnd/scraping/blob/main/scrappingHoax.ipynb\" target=\"_parent\"><img src=\"https://colab.research.google.com/assets/colab-badge.svg\" alt=\"Open In Colab\"/></a>"
      ]
    },
    {
      "cell_type": "code",
      "metadata": {
        "id": "awtrq7_wrQOR"
      },
      "source": [
        "from bs4 import BeautifulSoup as soup\n",
        "import pandas as pd\n",
        "import requests"
      ],
      "execution_count": null,
      "outputs": []
    },
    {
      "cell_type": "code",
      "metadata": {
        "colab": {
          "base_uri": "https://localhost:8080/"
        },
        "id": "KwLV2-i70tHR",
        "outputId": "6494ba62-6c78-476a-dbb4-ac4061325ea9"
      },
      "source": [
        "from google.colab import drive\n",
        "drive.mount('/content/grive')"
      ],
      "execution_count": null,
      "outputs": [
        {
          "output_type": "stream",
          "name": "stdout",
          "text": [
            "Mounted at /content/grive\n"
          ]
        }
      ]
    },
    {
      "cell_type": "code",
      "metadata": {
        "colab": {
          "base_uri": "https://localhost:8080/",
          "height": 36
        },
        "id": "JuPUC7u2rYlX",
        "outputId": "463dbee3-2d01-4c68-c075-e042b4c53852"
      },
      "source": [
        "detik_url = \"https://turnbackhoax.id/page/219\"\n",
        "detik_url"
      ],
      "execution_count": null,
      "outputs": [
        {
          "output_type": "execute_result",
          "data": {
            "application/vnd.google.colaboratory.intrinsic+json": {
              "type": "string"
            },
            "text/plain": [
              "'https://turnbackhoax.id/page/219'"
            ]
          },
          "metadata": {},
          "execution_count": 338
        }
      ]
    },
    {
      "cell_type": "code",
      "metadata": {
        "id": "zQgbmfQwraeE"
      },
      "source": [
        "html = requests.get(detik_url)"
      ],
      "execution_count": null,
      "outputs": []
    },
    {
      "cell_type": "code",
      "metadata": {
        "id": "Rt9m7-vhrcXu"
      },
      "source": [
        "bsobj = soup(html.content, 'lxml')"
      ],
      "execution_count": null,
      "outputs": []
    },
    {
      "cell_type": "code",
      "metadata": {
        "colab": {
          "base_uri": "https://localhost:8080/"
        },
        "id": "ytdhTGPTreKp",
        "outputId": "b5037319-a945-41cc-8e7e-e97764dadfd3"
      },
      "source": [
        "generated_text = []\n",
        "for link in bsobj.findAll(\"h3\"):\n",
        "  print((link.text.strip()))\n",
        "  generated_text.append(link.text.strip())\n",
        "  df = pd.DataFrame(generated_text, columns = ['narasi'])\n",
        "\n",
        "\n",
        "df.insert(0, 'Decision', 'HOAX')\n",
        "df.head()\n",
        "df.shape"
      ],
      "execution_count": null,
      "outputs": [
        {
          "output_type": "stream",
          "name": "stdout",
          "text": [
            "[SALAH] Bayi kembar tiga turis Jerman hasil hubungannya dengan anjing\n",
            "[SALAH] “jarum suntik di toilet umum penyebar virus hiv”\n",
            "[EDUKASI] “Pedang Jepang yang bernama Samurai”\n",
            "[SALAH] Bandara Internasional Sepinggan di Kalimantan Timur telah dijual ke pihak asing\n",
            "[SALAH] Pajak Motor/Mobil anda Mati? Polisi Tidak Berhak Menilang\n",
            "[SALAH] Foto mobil yang terlibat kecelakaan beruntun di Tol Purbaleunyi\n",
            "[SALAH] Suntingan Video Merry Riana “Indonesia Bubar?”\n",
            "[SALAH] SEMUA YANG BERBAU JAWA DI JAYAPURA HANCUR\n",
            "[SALAH] Pemutihan SIM Yang Sudah Mati Tanpa Mengulang Tes\n",
            "[SALAH] Ledakan Bensin Karena Dering Ponsel\n",
            "[SALAH] “hadiah Cek Tunai Rp.75.000.000 WhatsApp”\n",
            "[SALAH] “Opini dari Dahlan Iskan MENYEMBAH TUHAN, MENGABAIKAN KEMANUSIAAN”\n",
            "[SALAH] Anak Perempuan 6 Tahun Gangguan Jiwa Karena Banyak Ikut Les\n",
            "[KLARIFIKASI] PLN Bantah Lakukan Pemadaman Listrik di Wilayah Makassar, Halim, Kramat Jati pada Minggu dan Senin, 1 dan 2 September 2019\n",
            "[KLARIFIKASI] “Papua atau Timor Leste?”\n",
            "[SALAH] “Masjid di Papua dibakar”\n",
            "[SALAH] “Papua kini kibarkan bendera Yahudi Israel”\n",
            "[SALAH] Malam ini jam 24:00 BBM naik Tanggal 30 Agustus 2019\n",
            "[SALAH] Lensa Kontak Meleleh Karena Barbeque\n",
            "[SALAH] Bawa Lansia Tak Terurus Ke Rumah Lansia Atmabrata\n"
          ]
        },
        {
          "output_type": "execute_result",
          "data": {
            "text/plain": [
              "(20, 2)"
            ]
          },
          "metadata": {},
          "execution_count": 341
        }
      ]
    },
    {
      "cell_type": "code",
      "metadata": {
        "colab": {
          "base_uri": "https://localhost:8080/",
          "height": 206
        },
        "id": "cXxbmblQrkNz",
        "outputId": "c5308af6-c9c4-42f9-c933-bc9ae225fb34"
      },
      "source": [
        "df['narasi'] = df['narasi'].str.replace('SALAH', '')\n",
        "df['narasi'] = df['narasi'].str.replace('FALSE', '')\n",
        "df['narasi'] = df['narasi'].str.replace('KLARIFIKASI', '')\n",
        "\n",
        "df.head(5)"
      ],
      "execution_count": null,
      "outputs": [
        {
          "output_type": "execute_result",
          "data": {
            "text/html": [
              "<div>\n",
              "<style scoped>\n",
              "    .dataframe tbody tr th:only-of-type {\n",
              "        vertical-align: middle;\n",
              "    }\n",
              "\n",
              "    .dataframe tbody tr th {\n",
              "        vertical-align: top;\n",
              "    }\n",
              "\n",
              "    .dataframe thead th {\n",
              "        text-align: right;\n",
              "    }\n",
              "</style>\n",
              "<table border=\"1\" class=\"dataframe\">\n",
              "  <thead>\n",
              "    <tr style=\"text-align: right;\">\n",
              "      <th></th>\n",
              "      <th>Decision</th>\n",
              "      <th>narasi</th>\n",
              "    </tr>\n",
              "  </thead>\n",
              "  <tbody>\n",
              "    <tr>\n",
              "      <th>0</th>\n",
              "      <td>HOAX</td>\n",
              "      <td>[] Bayi kembar tiga turis Jerman hasil hubunga...</td>\n",
              "    </tr>\n",
              "    <tr>\n",
              "      <th>1</th>\n",
              "      <td>HOAX</td>\n",
              "      <td>[] “jarum suntik di toilet umum penyebar virus...</td>\n",
              "    </tr>\n",
              "    <tr>\n",
              "      <th>2</th>\n",
              "      <td>HOAX</td>\n",
              "      <td>[EDUKASI] “Pedang Jepang yang bernama Samurai”</td>\n",
              "    </tr>\n",
              "    <tr>\n",
              "      <th>3</th>\n",
              "      <td>HOAX</td>\n",
              "      <td>[] Bandara Internasional Sepinggan di Kalimant...</td>\n",
              "    </tr>\n",
              "    <tr>\n",
              "      <th>4</th>\n",
              "      <td>HOAX</td>\n",
              "      <td>[] Pajak Motor/Mobil anda Mati? Polisi Tidak B...</td>\n",
              "    </tr>\n",
              "  </tbody>\n",
              "</table>\n",
              "</div>"
            ],
            "text/plain": [
              "  Decision                                             narasi\n",
              "0     HOAX  [] Bayi kembar tiga turis Jerman hasil hubunga...\n",
              "1     HOAX  [] “jarum suntik di toilet umum penyebar virus...\n",
              "2     HOAX     [EDUKASI] “Pedang Jepang yang bernama Samurai”\n",
              "3     HOAX  [] Bandara Internasional Sepinggan di Kalimant...\n",
              "4     HOAX  [] Pajak Motor/Mobil anda Mati? Polisi Tidak B..."
            ]
          },
          "metadata": {},
          "execution_count": 342
        }
      ]
    },
    {
      "cell_type": "code",
      "metadata": {
        "id": "zYkPIGczroef"
      },
      "source": [
        "df.to_csv('detik40.csv', index = False)"
      ],
      "execution_count": null,
      "outputs": []
    },
    {
      "cell_type": "code",
      "metadata": {
        "colab": {
          "base_uri": "https://localhost:8080/"
        },
        "id": "DsWnDn4G0kdy",
        "outputId": "e885e3d9-1ab5-4857-994d-73fb91dd4f82"
      },
      "source": [
        "dt1 = pd.read_csv('detik1.csv')\n",
        "dt2 = pd.read_csv('detik2.csv')\n",
        "dt3 = pd.read_csv('detik3.csv')\n",
        "dt4 = pd.read_csv('detik4.csv')\n",
        "dt5 = pd.read_csv('detik5.csv')\n",
        "dt6 = pd.read_csv('detik6.csv')\n",
        "dt7 = pd.read_csv('detik7.csv')\n",
        "dt8 = pd.read_csv('detik8.csv')\n",
        "dt9 = pd.read_csv('detik9.csv')\n",
        "dt10 = pd.read_csv('detik10.csv')\n",
        "dt11 = pd.read_csv('detik11.csv')\n",
        "dt12 = pd.read_csv('detik12.csv')\n",
        "dt13 = pd.read_csv('detik13.csv')\n",
        "dt14 = pd.read_csv('detik14.csv')\n",
        "dt15 = pd.read_csv('detik15.csv')\n",
        "dt16 = pd.read_csv('detik16.csv')\n",
        "dt17 = pd.read_csv('detik17.csv')\n",
        "dt18 = pd.read_csv('detik18.csv')\n",
        "dt19 = pd.read_csv('detik19.csv')\n",
        "dt20 = pd.read_csv('detik20.csv')\n",
        "dt21 = pd.read_csv('detik21.csv')\n",
        "dt22 = pd.read_csv('detik22.csv')\n",
        "dt23 = pd.read_csv('detik23.csv')\n",
        "dt24 = pd.read_csv('detik24.csv')\n",
        "dt25 = pd.read_csv('detik25.csv')\n",
        "dt26 = pd.read_csv('detik26.csv')\n",
        "dt27 = pd.read_csv('detik27.csv')\n",
        "dt28 = pd.read_csv('detik28.csv')\n",
        "dt29 = pd.read_csv('detik29.csv')\n",
        "dt30 = pd.read_csv('detik30.csv')\n",
        "dt31 = pd.read_csv('detik31.csv')\n",
        "dt32 = pd.read_csv('detik32.csv')\n",
        "dt33 = pd.read_csv('detik33.csv')\n",
        "dt34 = pd.read_csv('detik34.csv')\n",
        "dt35 = pd.read_csv('detik35.csv')\n",
        "dt36 = pd.read_csv('detik36.csv')\n",
        "dt37 = pd.read_csv('detik37.csv')\n",
        "dt38 = pd.read_csv('detik38.csv')\n",
        "dt39 = pd.read_csv('detik39.csv')\n",
        "dt40 = pd.read_csv('detik40.csv')\n",
        "dt41 = pd.read_csv('detik41.csv')\n",
        "\n",
        "combine = pd.concat([dt1,dt2,dt3,dt4,dt5,\n",
        "                     dt6,dt7,dt8,dt9,dt10,\n",
        "                     dt11,dt12,dt13,dt14,dt15,\n",
        "                     dt16,dt17,dt18,dt19,dt20,\n",
        "                     dt21,dt22,dt23,dt24,dt25,\n",
        "                     dt26,dt27,dt28,dt29,dt30,\n",
        "                     dt31,dt32,dt33,dt34,dt35,\n",
        "                     dt36,dt37,dt38,dt39,dt40,\n",
        "                     dt41])\n",
        "combine.head()\n",
        "combine.shape"
      ],
      "execution_count": null,
      "outputs": [
        {
          "output_type": "execute_result",
          "data": {
            "text/plain": [
              "(820, 2)"
            ]
          },
          "metadata": {},
          "execution_count": 345
        }
      ]
    },
    {
      "cell_type": "code",
      "metadata": {
        "id": "WnRegaCHPAZ2"
      },
      "source": [
        "combine.to_csv('/content/grive/MyDrive/FILE DATASET/FILE/ADHOAX/hoax5.csv')"
      ],
      "execution_count": null,
      "outputs": []
    }
  ]
}